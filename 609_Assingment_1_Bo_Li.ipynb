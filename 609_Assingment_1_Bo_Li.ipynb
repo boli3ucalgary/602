{
  "nbformat": 4,
  "nbformat_minor": 0,
  "metadata": {
    "colab": {
      "provenance": [],
      "authorship_tag": "ABX9TyMlDGCT5lQumAlBg4vgK8me",
      "include_colab_link": true
    },
    "kernelspec": {
      "name": "python3",
      "display_name": "Python 3"
    },
    "language_info": {
      "name": "python"
    }
  },
  "cells": [
    {
      "cell_type": "markdown",
      "metadata": {
        "id": "view-in-github",
        "colab_type": "text"
      },
      "source": [
        "<a href=\"https://colab.research.google.com/github/boli3ucalgary/602/blob/main/609_Assingment_1_Bo_Li.ipynb\" target=\"_parent\"><img src=\"https://colab.research.google.com/assets/colab-badge.svg\" alt=\"Open In Colab\"/></a>"
      ]
    },
    {
      "cell_type": "markdown",
      "source": [
        "# **609 Assignment 1 - Bo Li**"
      ],
      "metadata": {
        "id": "ti44Vzp2b_Co"
      }
    },
    {
      "cell_type": "markdown",
      "source": [
        "## ${\\bf Problem 1:}$\n",
        "a) Suppose that $S(0)=\\$100$ and $S(1)$ can take two values:\n",
        "$$\n",
        "S(1)=\\left\\{\n",
        "\\begin{array}{rcl}\n",
        "S^u(1)&=&125, \\quad if\\quad stock\\quad goes\\quad 'up'\\\\\n",
        "S^d(1)&=&105,  \\quad if\\quad stock\\quad goes\\quad 'down',\\\\\n",
        "\\end{array}\n",
        "\\right.\n",
        "$$\n",
        "and the bond prices are $B(0)=\\$100$ and $B(1)=\\$110.$ Find the return on stock and bond."
      ],
      "metadata": {
        "id": "zcuhXu2TkDcI"
      }
    },
    {
      "cell_type": "markdown",
      "source": [
        "## Answer\n",
        "The return on **bond** is\n",
        "\n",
        "$$K_{A} = \\frac{B(1)-B(0)}{B(0)}= \\frac{110-100}{100} = 0.1$$ or 10%\n",
        "\n",
        "And return on stock\n",
        "$$\n",
        "K_{S}=\\left\\{\n",
        "\\begin{array}{rcl}\n",
        "\\frac{S^u(1)-S(0)}{S(0)}=\\frac{125-100}{100}&=&0.25, \\quad if\\quad stock\\quad goes\\quad 'up'\\\\\n",
        "\\frac{S^d(1)-S(0)}{S(0)}=\\frac{105-100}{100}&=&0.05,  \\quad if\\quad stock\\quad goes\\quad 'down',\\\\\n",
        "\\end{array}\n",
        "\\right.\n",
        "$$"
      ],
      "metadata": {
        "id": "a8gGc7maen6_"
      }
    },
    {
      "cell_type": "markdown",
      "source": [
        "\\"
      ],
      "metadata": {
        "id": "HDA9hVWGgbfT"
      }
    },
    {
      "cell_type": "markdown",
      "source": [
        "b)  Let $B(0)=\\$90, B(1)=\\$100, S(0)=\\$25$ and let\n",
        "$$\n",
        "S(1)=\\left\\{\n",
        "\\begin{array}{rcl}\n",
        "S^u(1)=30,&& if\\quad stock\\quad goes\\quad 'up'\\\\\n",
        "S^d(1)=20, && if\\quad \\quad stock\\quad goes\\quad'down'.\\\\\n",
        "\\end{array}\n",
        "\\right.\n",
        "$$\n",
        "For a portfolio with $x=10$ shares and $y=15$ bonds, calculate values $V(0), V(1)$ and return $K_V.$"
      ],
      "metadata": {
        "id": "3qwfDGRFnMAP"
      }
    },
    {
      "cell_type": "markdown",
      "source": [
        "## Answer\n",
        "\n",
        "Intial value of the portfolio is\n",
        "$$\n",
        "V(0) = xS(0) +yA(0) = (10)(25) + (90)(15) =  1600\n",
        "$$\n",
        "$$\n",
        "V(1)=\\left\\{\n",
        "\\begin{array}{rcl}\n",
        "xS^u(1)+yA(1) =V^u(1)=1800,&& if\\quad stock\\quad goes\\quad 'up'\\\\\n",
        "xS^d(1)+yA(1) =V^d(1)=1700, && if\\quad stock\\quad goes\\quad'down'.\\\\\n",
        "\\end{array}\n",
        "\\right.\n",
        "$$\n",
        "\n",
        "The return on this portfolio is\n",
        "\n",
        "$$\n",
        "K_{V}=\\left\\{\n",
        "\\begin{array}{rcl}\n",
        "\\frac{V^u(1)-V(0)}{V(0)}=\\frac{1800-1600}{1600}&=&0.125 = 12.5\\% ,\\quad if\\quad stock\\quad goes\\quad 'up'\\\\\n",
        "\\frac{V^d(1)-V(0)}{V(0)}=\\frac{1700-1600}{1600}&=&0.0625= 6.25\\%,  \\quad if\\quad stock\\quad goes\\quad 'down',\\\\\n",
        "\\end{array}\n",
        "\\right.\n",
        "$$"
      ],
      "metadata": {
        "id": "iwty_A_Mo_A_"
      }
    },
    {
      "cell_type": "markdown",
      "source": [
        "## ${\\bf Problem 2:}$\n",
        "a) Given the same bond and stock prices as in Problem 1, b), above, find a portfolio whose value at time $t=1$ is\n",
        "$$\n",
        "V(1)=\\left\\{\n",
        "\\begin{array}{rcl}\n",
        "1,160, &&if\\quad stock\\quad goes\\quad 'up'\\\\\n",
        "1,040,&& if\\quad \\quad stock\\quad goes\\quad'down'.\n",
        "\\end{array}\n",
        "\\right.\n",
        "$$\n",
        "What is the value of this portfolio at time $t=0$?"
      ],
      "metadata": {
        "id": "mLWYLDd2t1dw"
      }
    },
    {
      "cell_type": "markdown",
      "source": [
        "## Answer\n",
        "\n",
        "Because we know the stock and bond price is the same as Problem 1(b),\n",
        "so the intial value of the portfolio is\n",
        "$$\n",
        "V(0) = xS(0) +yA(0) = (x)(25) + (y)(90)\n",
        "$$\n",
        "$$\n",
        "V(1)=\\left\\{\n",
        "\\begin{array}{rcl}\n",
        "xS^u(1)+yA(1) =x(30)+y(100)=1160,&& if\\quad stock\\quad goes\\quad 'up'\\\\\n",
        "xS^d(1)+yA(1) =x(20)+y(100)=1040, && if\\quad stock\\quad goes\\quad'down'.\\\\\n",
        "\\end{array}\n",
        "\\right.\n",
        "$$\n",
        "\n",
        "From this we can caculate that $x=12$, $y=8$\n",
        "\n",
        "So $V(0) = xS(0) +yA(0) = (12)(25) + (8)(90)=1020$"
      ],
      "metadata": {
        "id": "vj9iKnBgt8Q0"
      }
    },
    {
      "cell_type": "markdown",
      "source": [
        "b) If the probability $p$ for the stock price to go 'up' in Problem 2, a), is $p=0.6,$ then what are the expected return for this portfolio and the risk of this investment?"
      ],
      "metadata": {
        "id": "Ea9sjEO1y3sy"
      }
    },
    {
      "cell_type": "markdown",
      "source": [
        "## Answer\n",
        "\n",
        "From above we know\n",
        "\n",
        "The return on this portfolio is\n",
        "\n",
        "$$\n",
        "K_{V}=\\left\\{\n",
        "\\begin{array}{rcl}\n",
        "\\frac{V^u(1)-V(0)}{V(0)}=\\frac{1160-1020}{1020}&=&0.1373 = 13.73\\% ,\\quad if\\quad stock\\quad goes\\quad 'up'\\\\\n",
        "\\frac{V^d(1)-V(0)}{V(0)}=\\frac{1040-1020}{1020}&=&0.0196= 1.96\\%,  \\quad if\\quad stock\\quad goes\\quad 'down',\\\\\n",
        "\\end{array}\n",
        "\\right.\n",
        "$$\n",
        "\n",
        "So the expected return is : $E[K_{V}] = 0.1373P + 0.0196(1-P)=(0.1373)(0.6)-(0.0196)(0.4)= 0.0902 = 9.02\\%$\n",
        "\n",
        "the risk of this investment is defined to be the standard deviation of the random $K_{V}$:\n",
        "\n",
        "$$\n",
        "\\sigma_{V}=\\sqrt{(0.6)(0.1373-0.0902)^2 + (0.4)(0.0196-0.0902)^2}=0.0575=5.75\\%\n",
        "$$"
      ],
      "metadata": {
        "id": "LJJG71P-y4qF"
      }
    },
    {
      "cell_type": "markdown",
      "source": [
        "## ${\\bf Problem 3:}$\n",
        "Consider a loan of  $2,000  to be paid back in 3 equal instalments due at yearly intervals. The interest is  𝑟=10%  annually (of the current outstanding balance), and the repayment of a fraction of the loan. (Recall that a loan of this type is called an amortized loan). Compute the amount of each instalment and the present value of the perpetuity."
      ],
      "metadata": {
        "id": "KiHcxhbE48QK"
      }
    },
    {
      "cell_type": "markdown",
      "source": [
        "## Answer\n",
        "\n",
        "The amoount of each instalment can be computed as\n",
        "$$\n",
        "\\frac{2000}{PA(10\\%,3)}= \\frac{2000}{\\frac{1-(1+10\\%)^{-3}}{10\\%)}} = 804.22\n",
        "$$\n",
        "\n",
        "Tne present value of perpetuity is\n",
        "\n",
        "$$\n",
        "\\lim_{n \\to +\\infty}PA(10\\%, n) = \\frac{C}{r} = \\frac{804.22}{0.15} = 5361.5\n",
        "$$"
      ],
      "metadata": {
        "id": "rGg-1tuG489h"
      }
    },
    {
      "cell_type": "markdown",
      "source": [
        "## ${\\bf Problem 4:}$\n",
        "\n",
        " a) Suppose that we have zero-coupon bond with the face value of $F=\\$200$ and the interest rate is $r=20\\%$ annually.  What is the present value of this bond?"
      ],
      "metadata": {
        "id": "EC7fp1zhsBQ4"
      }
    },
    {
      "cell_type": "markdown",
      "source": [
        "## Answer\n",
        "\n",
        "The present value of the bond sould be\n",
        "\n",
        "$$\n",
        "V(0) = F(1+r)^{-1} = (200)(1+0.2)^{-1} \\approx 166.67\n",
        "$$"
      ],
      "metadata": {
        "id": "_g1Gpyx-sL0f"
      }
    },
    {
      "cell_type": "markdown",
      "source": [
        "b) Semi-annual compounding at $20\\%$ is equivalent to annual compounding at which rate?"
      ],
      "metadata": {
        "id": "6iXywo-ctwTx"
      }
    },
    {
      "cell_type": "markdown",
      "source": [
        "## Answer\n",
        "\n",
        "To compute this, we use method as below\n",
        "\n",
        "$$\n",
        "(1+r/m)^m = 1+r_{e}\n",
        "\\\\\n",
        "=\n",
        "\\\\\n",
        "(1+0.2/2)^2 = 1+r_{e}\n",
        "\\\\\n",
        "=\n",
        "\\\\\n",
        "r_{e} = 0.21\n",
        "$$\n",
        "\n",
        "In hence, semi-annual compounding at $20\\%$ is equivalent to annual compounding at $21\\%$?"
      ],
      "metadata": {
        "id": "bE9TzbzRt4hT"
      }
    },
    {
      "cell_type": "markdown",
      "source": [
        "## ${\\bf Problem 5:}$ Suppose that there are three possible market scenarios, $\\Omega=\\{\\omega_1,\\omega_2,\\omega_3\\},$ the stock prices taking the following values over two time steps:\n",
        "$$\n",
        "\\begin{array}{rcl}\n",
        "Scenario\\quad\\quad\\quad\\quad &S(0)&\\quad\\quad\\quad\\quad S(1)\\quad\\quad\\quad S(2)\\\\\n",
        "\\omega_1\\quad\\quad\\quad\\quad &50&\\quad\\quad\\quad\\quad 60\\quad\\quad\\quad\\quad 65\\\\\n",
        "\\omega_2\\quad\\quad\\quad\\quad &50&\\quad\\quad\\quad\\quad 60\\quad\\quad\\quad\\quad 45\\\\\n",
        "\\omega_2\\quad\\quad\\quad\\quad &50&\\quad\\quad\\quad\\quad 45\\quad\\quad\\quad\\quad 40.\\\\\n",
        "\\end{array}\n",
        "$$\n",
        "Find the rates of return (or returns) $K(1)$ and $K(2)$ for those scenarios."
      ],
      "metadata": {
        "id": "46cGNQKiwAto"
      }
    },
    {
      "cell_type": "markdown",
      "source": [
        "## Answer"
      ],
      "metadata": {
        "id": "gWD8bsQHwMO3"
      }
    },
    {
      "cell_type": "code",
      "source": [
        "\n",
        "p = sqrt((0.1373)*(0.6)+(0.0196)*(0.4))\n",
        "p"
      ],
      "metadata": {
        "colab": {
          "base_uri": "https://localhost:8080/",
          "height": 194
        },
        "id": "sEq8BjSMqYV3",
        "outputId": "8cee6625-b540-4151-e755-4042b051d88b"
      },
      "execution_count": null,
      "outputs": [
        {
          "output_type": "error",
          "ename": "NameError",
          "evalue": "name 'sqrt' is not defined",
          "traceback": [
            "\u001b[0;31m---------------------------------------------------------------------------\u001b[0m",
            "\u001b[0;31mNameError\u001b[0m                                 Traceback (most recent call last)",
            "\u001b[0;32m<ipython-input-12-05768a14b3a4>\u001b[0m in \u001b[0;36m<cell line: 1>\u001b[0;34m()\u001b[0m\n\u001b[0;32m----> 1\u001b[0;31m \u001b[0mp\u001b[0m \u001b[0;34m=\u001b[0m \u001b[0msqrt\u001b[0m\u001b[0;34m(\u001b[0m\u001b[0;34m(\u001b[0m\u001b[0;36m0.1373\u001b[0m\u001b[0;34m)\u001b[0m\u001b[0;34m*\u001b[0m\u001b[0;34m(\u001b[0m\u001b[0;36m0.6\u001b[0m\u001b[0;34m)\u001b[0m\u001b[0;34m+\u001b[0m\u001b[0;34m(\u001b[0m\u001b[0;36m0.0196\u001b[0m\u001b[0;34m)\u001b[0m\u001b[0;34m*\u001b[0m\u001b[0;34m(\u001b[0m\u001b[0;36m0.4\u001b[0m\u001b[0;34m)\u001b[0m\u001b[0;34m)\u001b[0m\u001b[0;34m\u001b[0m\u001b[0;34m\u001b[0m\u001b[0m\n\u001b[0m\u001b[1;32m      2\u001b[0m \u001b[0mp\u001b[0m\u001b[0;34m\u001b[0m\u001b[0;34m\u001b[0m\u001b[0m\n",
            "\u001b[0;31mNameError\u001b[0m: name 'sqrt' is not defined"
          ]
        }
      ]
    }
  ]
}